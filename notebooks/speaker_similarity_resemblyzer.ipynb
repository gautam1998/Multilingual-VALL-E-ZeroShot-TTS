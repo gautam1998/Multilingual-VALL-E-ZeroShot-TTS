{
  "nbformat": 4,
  "nbformat_minor": 0,
  "metadata": {
    "colab": {
      "provenance": [],
      "gpuType": "T4"
    },
    "kernelspec": {
      "name": "python3",
      "display_name": "Python 3"
    },
    "language_info": {
      "name": "python"
    },
    "accelerator": "GPU"
  },
  "cells": [
    {
      "cell_type": "code",
      "source": [
        "%cd /content/drive/MyDrive/voiceConversionExp/"
      ],
      "metadata": {
        "colab": {
          "base_uri": "https://localhost:8080/"
        },
        "id": "7s84zANZMnmt",
        "outputId": "d053bce0-cbc9-47f3-be57-dbb223325cae"
      },
      "execution_count": 4,
      "outputs": [
        {
          "output_type": "stream",
          "name": "stdout",
          "text": [
            "/content/drive/MyDrive/voiceConversionExp\n"
          ]
        }
      ]
    },
    {
      "cell_type": "code",
      "execution_count": null,
      "metadata": {
        "id": "-QzGisSgIaN1"
      },
      "outputs": [],
      "source": [
        "! pip install resemblyzer"
      ]
    },
    {
      "cell_type": "code",
      "source": [
        "from sklearn.metrics.pairwise import cosine_similarity\n",
        "from resemblyzer import VoiceEncoder, preprocess_wav\n",
        "from pathlib import Path\n",
        "import numpy as np"
      ],
      "metadata": {
        "id": "Fw39fCOWL8yE"
      },
      "execution_count": 1,
      "outputs": []
    },
    {
      "cell_type": "code",
      "source": [
        "def loadEncoder():\n",
        "  return VoiceEncoder()\n",
        "\n",
        "def getSpeakerEmbeddings(encoder, audio_file):\n",
        "\n",
        "  # get embeddings\n",
        "  fpath = Path(audio_file)\n",
        "  wav = preprocess_wav(audio_file)\n",
        "  embed = encoder.embed_utterance(wav)\n",
        "  return embed\n",
        "\n",
        "def getSpeakerSimilarity(encoder, audio_file_1, audio_file_2):\n",
        "  # get speaker similarity\n",
        "  embed_1 = getSpeakerEmbeddings(encoder, audio_file_1).reshape(1, -1)\n",
        "  embed_2 = getSpeakerEmbeddings(encoder, audio_file_2).reshape(1, -1)\n",
        "\n",
        "  sim = cosine_similarity(embed_1, embed_2)\n",
        "  score = sim[0][0]\n",
        "  return score"
      ],
      "metadata": {
        "id": "yXf7Rt3AJABq"
      },
      "execution_count": 46,
      "outputs": []
    },
    {
      "cell_type": "code",
      "source": [
        "# load voice encoder\n",
        "encoder = loadEncoder()"
      ],
      "metadata": {
        "colab": {
          "base_uri": "https://localhost:8080/"
        },
        "id": "VdnveOagJiw4",
        "outputId": "50cdb716-79d5-4b72-d62c-c760ca0c9837"
      },
      "execution_count": 47,
      "outputs": [
        {
          "output_type": "stream",
          "name": "stdout",
          "text": [
            "Loaded the voice encoder model on cuda in 0.01 seconds.\n"
          ]
        }
      ]
    },
    {
      "cell_type": "code",
      "source": [
        "file_1 = \"./QuickVC-VoiceConversion/test_data/vishal_eng.wav\"\n",
        "file_2 = \"./QuickVC-VoiceConversion/test_data/common_voice_ru_18909996.wav\"\n",
        "\n",
        "sim_score = getSpeakerSimilarity(encoder, file_1, file_2)\n",
        "sim_score"
      ],
      "metadata": {
        "colab": {
          "base_uri": "https://localhost:8080/"
        },
        "id": "D0QARMGAOqxY",
        "outputId": "7e8ed464-ddef-4840-903c-401f0e67fe5d"
      },
      "execution_count": 51,
      "outputs": [
        {
          "output_type": "execute_result",
          "data": {
            "text/plain": [
              "0.6763104"
            ]
          },
          "metadata": {},
          "execution_count": 51
        }
      ]
    },
    {
      "cell_type": "code",
      "source": [],
      "metadata": {
        "id": "DdVjRLoTN7KH"
      },
      "execution_count": null,
      "outputs": []
    }
  ]
}