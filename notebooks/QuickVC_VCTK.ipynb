{
  "cells": [
    {
      "cell_type": "code",
      "source": [
        "!pip install \"librosa==0.9.1\""
      ],
      "metadata": {
        "colab": {
          "base_uri": "https://localhost:8080/"
        },
        "id": "yJ2fpyrgGzf4",
        "outputId": "d28bb241-29f2-4acc-9ea7-fe8b9a2df4cf"
      },
      "execution_count": 4,
      "outputs": [
        {
          "output_type": "stream",
          "name": "stdout",
          "text": [
            "Looking in indexes: https://pypi.org/simple, https://us-python.pkg.dev/colab-wheels/public/simple/\n",
            "Requirement already satisfied: librosa==0.9.1 in /usr/local/lib/python3.10/dist-packages (0.9.1)\n",
            "Requirement already satisfied: audioread>=2.1.5 in /usr/local/lib/python3.10/dist-packages (from librosa==0.9.1) (3.0.0)\n",
            "Requirement already satisfied: numpy>=1.17.0 in /usr/local/lib/python3.10/dist-packages (from librosa==0.9.1) (1.22.4)\n",
            "Requirement already satisfied: scipy>=1.2.0 in /usr/local/lib/python3.10/dist-packages (from librosa==0.9.1) (1.10.1)\n",
            "Requirement already satisfied: scikit-learn>=0.19.1 in /usr/local/lib/python3.10/dist-packages (from librosa==0.9.1) (1.2.2)\n",
            "Requirement already satisfied: joblib>=0.14 in /usr/local/lib/python3.10/dist-packages (from librosa==0.9.1) (1.2.0)\n",
            "Requirement already satisfied: decorator>=4.0.10 in /usr/local/lib/python3.10/dist-packages (from librosa==0.9.1) (4.4.2)\n",
            "Requirement already satisfied: resampy>=0.2.2 in /usr/local/lib/python3.10/dist-packages (from librosa==0.9.1) (0.4.2)\n",
            "Requirement already satisfied: numba>=0.45.1 in /usr/local/lib/python3.10/dist-packages (from librosa==0.9.1) (0.56.4)\n",
            "Requirement already satisfied: soundfile>=0.10.2 in /usr/local/lib/python3.10/dist-packages (from librosa==0.9.1) (0.12.1)\n",
            "Requirement already satisfied: pooch>=1.0 in /usr/local/lib/python3.10/dist-packages (from librosa==0.9.1) (1.6.0)\n",
            "Requirement already satisfied: packaging>=20.0 in /usr/local/lib/python3.10/dist-packages (from librosa==0.9.1) (23.1)\n",
            "Requirement already satisfied: llvmlite<0.40,>=0.39.0dev0 in /usr/local/lib/python3.10/dist-packages (from numba>=0.45.1->librosa==0.9.1) (0.39.1)\n",
            "Requirement already satisfied: setuptools in /usr/local/lib/python3.10/dist-packages (from numba>=0.45.1->librosa==0.9.1) (67.7.2)\n",
            "Requirement already satisfied: appdirs>=1.3.0 in /usr/local/lib/python3.10/dist-packages (from pooch>=1.0->librosa==0.9.1) (1.4.4)\n",
            "Requirement already satisfied: requests>=2.19.0 in /usr/local/lib/python3.10/dist-packages (from pooch>=1.0->librosa==0.9.1) (2.27.1)\n",
            "Requirement already satisfied: threadpoolctl>=2.0.0 in /usr/local/lib/python3.10/dist-packages (from scikit-learn>=0.19.1->librosa==0.9.1) (3.1.0)\n",
            "Requirement already satisfied: cffi>=1.0 in /usr/local/lib/python3.10/dist-packages (from soundfile>=0.10.2->librosa==0.9.1) (1.15.1)\n",
            "Requirement already satisfied: pycparser in /usr/local/lib/python3.10/dist-packages (from cffi>=1.0->soundfile>=0.10.2->librosa==0.9.1) (2.21)\n",
            "Requirement already satisfied: urllib3<1.27,>=1.21.1 in /usr/local/lib/python3.10/dist-packages (from requests>=2.19.0->pooch>=1.0->librosa==0.9.1) (1.26.15)\n",
            "Requirement already satisfied: certifi>=2017.4.17 in /usr/local/lib/python3.10/dist-packages (from requests>=2.19.0->pooch>=1.0->librosa==0.9.1) (2022.12.7)\n",
            "Requirement already satisfied: charset-normalizer~=2.0.0 in /usr/local/lib/python3.10/dist-packages (from requests>=2.19.0->pooch>=1.0->librosa==0.9.1) (2.0.12)\n",
            "Requirement already satisfied: idna<4,>=2.5 in /usr/local/lib/python3.10/dist-packages (from requests>=2.19.0->pooch>=1.0->librosa==0.9.1) (3.4)\n"
          ]
        }
      ]
    },
    {
      "cell_type": "code",
      "execution_count": 5,
      "metadata": {
        "id": "XDQ1_2W9YR9j",
        "colab": {
          "base_uri": "https://localhost:8080/"
        },
        "outputId": "fb840a83-e202-4e44-e7b1-672c157bb684"
      },
      "outputs": [
        {
          "output_type": "stream",
          "name": "stdout",
          "text": [
            "/content/drive/MyDrive/DGM/QUICKVC\n"
          ]
        }
      ],
      "source": [
        "cd /content/drive/MyDrive/DGM/QUICKVC"
      ]
    },
    {
      "cell_type": "code",
      "source": [
        "cd QuickVC-VoiceConversion"
      ],
      "metadata": {
        "colab": {
          "base_uri": "https://localhost:8080/"
        },
        "id": "QHbXOI8dANn4",
        "outputId": "c13cc721-16d1-46ac-b4bd-0c250deec5e6"
      },
      "execution_count": 6,
      "outputs": [
        {
          "output_type": "stream",
          "name": "stdout",
          "text": [
            "/content/drive/MyDrive/DGM/QUICKVC/QuickVC-VoiceConversion\n"
          ]
        }
      ]
    },
    {
      "cell_type": "code",
      "source": [
        "!python convert.py --ptfile logs/quickvc/G_1200000.pth"
      ],
      "metadata": {
        "colab": {
          "base_uri": "https://localhost:8080/"
        },
        "id": "3k3qAmaTATP_",
        "outputId": "ae7e94e0-e9bd-4d0a-b77e-bf34b870f91a"
      },
      "execution_count": 16,
      "outputs": [
        {
          "output_type": "stream",
          "name": "stdout",
          "text": [
            "Loading model...\n",
            "Mutli-stream iSTFT VITS\n",
            "Number of parameter: 40.03M\n",
            "Loading checkpoint...\n",
            "Loading hubert_soft checkpoint\n",
            "Using cache found in /root/.cache/torch/hub/bshall_hubert_main\n",
            "Loaded soft hubert.\n",
            "Processing text...\n",
            "Synthesizing...\n",
            "0it [00:00, ?it/s]/content/drive/MyDrive/DGM/QUICKVC/QuickVC-VoiceConversion/mel_processing.py:96: FutureWarning: Pass sr=16000, n_fft=1280, n_mels=80, fmin=0.0, fmax=None as keyword args. From version 0.10 passing these as positional arguments will result in an error\n",
            "  mel = librosa_mel_fn(sampling_rate, n_fft, num_mels, fmin, fmax)\n",
            "/usr/local/lib/python3.10/dist-packages/torch/functional.py:641: UserWarning: stft with return_complex=False is deprecated. In a future pytorch release, stft will return complex tensors for all inputs, and return_complex=False will raise an error.\n",
            "Note: you can still call torch.view_as_real on the complex output to recover the old return format. (Triggered internally at ../aten/src/ATen/native/SpectralOps.cpp:862.)\n",
            "  return _VF.stft(input, n_fft, hop_length, win_length, window,  # type: ignore[attr-defined]\n",
            "torch.Size([1, 1, 165632])\n",
            "1it [00:00,  1.07it/s]torch.Size([1, 1, 109056])\n",
            "2it [00:01,  2.17it/s]torch.Size([1, 1, 154880])\n",
            "3it [00:01,  3.27it/s]torch.Size([1, 1, 162816])\n",
            "4it [00:01,  4.34it/s]torch.Size([1, 1, 130304])\n",
            "5it [00:01,  5.35it/s]torch.Size([1, 1, 106752])\n",
            "6it [00:01,  6.35it/s]torch.Size([1, 1, 118784])\n",
            "7it [00:01,  4.37it/s]\n"
          ]
        }
      ]
    },
    {
      "cell_type": "code",
      "source": [
        "cd /usr/local/lib/python3.10/dist-packages/torch/"
      ],
      "metadata": {
        "colab": {
          "base_uri": "https://localhost:8080/"
        },
        "id": "cZo2ahfeIy2h",
        "outputId": "6611a835-27bb-4734-c35c-eefe51090295"
      },
      "execution_count": 2,
      "outputs": [
        {
          "output_type": "stream",
          "name": "stdout",
          "text": [
            "/usr/local/lib/python3.10/dist-packages/torch\n"
          ]
        }
      ]
    },
    {
      "cell_type": "code",
      "source": [],
      "metadata": {
        "colab": {
          "base_uri": "https://localhost:8080/"
        },
        "id": "IOhSZOSZI2fY",
        "outputId": "862ea313-f60f-4e38-ba64-7881db4ca9ed"
      },
      "execution_count": 3,
      "outputs": [
        {
          "output_type": "stream",
          "name": "stdout",
          "text": [
            "/bin/bash: nano: command not found\n"
          ]
        }
      ]
    },
    {
      "cell_type": "code",
      "source": [
        "cd test_data"
      ],
      "metadata": {
        "colab": {
          "base_uri": "https://localhost:8080/"
        },
        "id": "db0G40HuAl2i",
        "outputId": "3f7fc631-f48d-4883-c280-6da37b524fbd"
      },
      "execution_count": 18,
      "outputs": [
        {
          "output_type": "stream",
          "name": "stdout",
          "text": [
            "/content/drive/MyDrive/DGM/QUICKVC/QuickVC-VoiceConversion/test_data\n"
          ]
        }
      ]
    },
    {
      "cell_type": "code",
      "source": [
        "'''\n",
        "/content/drive/MyDrive/DGM/QUICKVC/QuickVC-VoiceConversion/test_data/p229_003.wav  \n",
        "/content/drive/MyDrive/DGM/QUICKVC/QuickVC-VoiceConversion/test_data/p334_304.wav\n",
        "/content/drive/MyDrive/DGM/QUICKVC/QuickVC-VoiceConversion/test_data/p246_198.wav  \n",
        "/content/drive/MyDrive/DGM/QUICKVC/QuickVC-VoiceConversion/test_data/p351_003.wav\n",
        "/content/drive/MyDrive/DGM/QUICKVC/QuickVC-VoiceConversion/test_data/p252_003.wav  \n",
        "/content/drive/MyDrive/DGM/QUICKVC/QuickVC-VoiceConversion/test_data/p374_004.wav\n",
        "/content/drive/MyDrive/DGM/QUICKVC/QuickVC-VoiceConversion/test_data/p225_001.wav    \n",
        "/content/drive/MyDrive/DGM/QUICKVC/QuickVC-VoiceConversion/test_data/p312_177.wav\n",
        "/content/drive/MyDrive/DGM/QUICKVC/QuickVC-VoiceConversion/test_data/p226_005.wav    \n",
        "/content/drive/MyDrive/DGM/QUICKVC/QuickVC-VoiceConversion/test_data/p318_140.wav\n",
        "'''\n",
        "\n",
        "'''\n",
        "/content/drive/MyDrive/DGM/QUICKVC/utterance1/hin.wav\n",
        "/content/drive/MyDrive/DGM/QUICKVC/utterance1/hun.wav\n",
        "/content/drive/MyDrive/DGM/QUICKVC/utterance1/ind.wav\n",
        "/content/drive/MyDrive/DGM/QUICKVC/utterance1/por.wav\n",
        "/content/drive/MyDrive/DGM/QUICKVC/utterance1/spa.wav\n",
        "/content/drive/MyDrive/DGM/QUICKVC/utterance1/tur.wav\n",
        "/content/drive/MyDrive/DGM/QUICKVC/utterance1/eng.wav\n",
        "\n",
        "'''"
      ],
      "metadata": {
        "id": "KTFmNrquAuOH"
      },
      "execution_count": null,
      "outputs": []
    },
    {
      "cell_type": "code",
      "source": [
        "import pandas as pd\n",
        "\n",
        "utterances_to_transcriptions = pd.read_csv('/content/utterances_to_transcriptions.csv')\n",
        "utterances_to_transcriptions.head()"
      ],
      "metadata": {
        "colab": {
          "base_uri": "https://localhost:8080/",
          "height": 565
        },
        "id": "E1lw7T3ERNOX",
        "outputId": "f6fe7e68-eda6-4255-ed7d-e4ebc1cd91be"
      },
      "execution_count": 20,
      "outputs": [
        {
          "output_type": "execute_result",
          "data": {
            "text/plain": [
              "   Unnamed: 0                                         hindi_orig  \\\n",
              "0           0  इस वर ् ष के अंत तक , इस ग ् रह पर लगभग एक अरब...   \n",
              "1           1  उन सब में जो एक बात आम है वह है कि वे मरने वाल...   \n",
              "2           2  हालांकि यह कुछ हद तक एक रुग ् ण सोच है , मुझे ...   \n",
              "3           3  मुझे पहली बार इसका ख ् याल आया डेरेक के.एच. मि...   \n",
              "4           4  और मिलर ने अपने परिवार और दोस ् तों से एक पोस ...   \n",
              "\n",
              "                                         hindi_trans  \\\n",
              "0  इस वर्क्ष के अम तक इसग कह पर लगभग एक अरब लोग ऐ...   \n",
              "1  उन सब में जो एक बात आम है वह है कि वे मरने वाल...   \n",
              "2  हालाँकि यह कुछ हद तक एक रुग प्रनसोच है मुझे लग...   \n",
              "3  मुझे पहली बार इसका कातियाल आया एर एक केत मिलर्...   \n",
              "4  और मिलर ने अपने परिवार और दोस्तों से एक पोस लि...   \n",
              "\n",
              "                                        english_orig  \\\n",
              "0  By the end of this year , there &apos;ll be ne...   \n",
              "1  The one thing that all of them have in common ...   \n",
              "2  While that might be a somewhat morbid thought ...   \n",
              "3  What first got me thinking about this was a bl...   \n",
              "4  And what Miller did was have his family and fr...   \n",
              "\n",
              "                                       english_trans  \\\n",
              "0  by the end of this year their apostle be nearl...   \n",
              "1  the one thing that all of them have incoman is...   \n",
              "2  while that might be a somewhat morbid thought ...   \n",
              "3  what first got we thinking about this was a bl...   \n",
              "4  and what miller did was af his family and frie...   \n",
              "\n",
              "                                      hungarian_orig  \\\n",
              "0  Az év végéig majdnem egymilliárd ember lesz a ...   \n",
              "1  És ami mindannyiukban közös , hogy mind meg fo...   \n",
              "2  Lehet , hogy ez egy morbid gondolat , de azt h...   \n",
              "3  Egy blog bejegyzés miatt kezdtem el ezen gondo...   \n",
              "4  Miller megkérte a családját és barátait , hogy...   \n",
              "\n",
              "                                     hungarian_trans  \\\n",
              "0  az év végég majdnem egy milliárd dembe lesz a ...   \n",
              "1  és ami mindannyiukban közös hogy mindnek fogna...   \n",
              "2  lehet hogy az egy morbit gondolat de azt hisze...   \n",
              "3  egy blók bejegyzés miatt kezdtem vel ezen gond...   \n",
              "4  véler megkérte a családját és barátait hogy ír...   \n",
              "\n",
              "                                     indonesian_orig  \\\n",
              "0  Pada akhir tahun ini , akan ada hampir satu mi...   \n",
              "1  Satu kesamaan dari mereka semua adalah mereka ...   \n",
              "2  Walau itu pemikiran yang agak menakutkan , say...   \n",
              "3  Yang membuat saya mulai berpikir seperti ini a...   \n",
              "4  Miller meminta keluarga dan temannya untuk men...   \n",
              "\n",
              "                                    indonesian_trans  \\\n",
              "0  pada akhir tahun ini akan ada hampir satu miar...   \n",
              "1  satu kesamaan dari mereka semua adalah mereka ...   \n",
              "2  walau itu pemikiran yang adak menakutkan saya ...   \n",
              "3  yang membuat saya mulai berpikir seperti ini a...   \n",
              "4  miler meminta keluarda dan temannya untuk menu...   \n",
              "\n",
              "                                      portugese_orig  \\\n",
              "0  Até ao final deste ano , existirão quase um mi...   \n",
              "1  A única coisa que todas elas têm em comum é qu...   \n",
              "2  Apesar de isso poder ser um pensamento um tant...   \n",
              "3  Portanto , o que me fez começar a pensar acerc...   \n",
              "4  E o que Miller fez , foi fazer com que a seu f...   \n",
              "\n",
              "                                     portugese_trans  \\\n",
              "0  até ao final deste ano existirão quase um milh...   \n",
              "1  a única coisa que todas elas têm em comum é qu...   \n",
              "2  apesar disso poder ser um pensamento um tanto ...   \n",
              "3  portanto o que me fez começar a pensar acerca ...   \n",
              "4  e o que me ler fez foi fazer com que a seu fam...   \n",
              "\n",
              "                                        spanish_orig  \\\n",
              "0  A finales de este año habrá alrededor de mil m...   \n",
              "1            Todos tienen en común que van a morir .   \n",
              "2  Aunque esto pueda ser un poco morboso , creo q...   \n",
              "3  Lo primero que me llevó a pensar en esto fue u...   \n",
              "4  Miller le pidió a sus familiares y amigos que ...   \n",
              "\n",
              "                                       spanish_trans  \\\n",
              "0  a finales de este año habrá alrededor de mil m...   \n",
              "1              todos tienen en común que van a morir   \n",
              "2  aunque esto puede aser un poco morboso creo qu...   \n",
              "3  lo primero que me llevó a pensar en esto fue u...   \n",
              "4  miller le pidió a sus familiares y amigos que ...   \n",
              "\n",
              "                                        turkish_orig  \\\n",
              "0  Bu senenin sonunda , yaklaşık bir milyar insan...   \n",
              "1  Hepsinin tek ortak noktası da , ölecek olmaları .   \n",
              "2  Bu biraz iğrenç bir düşünce olsa da , içinde k...   \n",
              "3  Beni bunu düşünmeye iten şey , Derek K. Miller...   \n",
              "4  Miller ölümünden kısa bir süre sonra paylaşılm...   \n",
              "\n",
              "                                       turkish_trans  \n",
              "0  bu senenin sonunda yaklaşık bir milyar insan s...  \n",
              "1      hepsinin tek ortak loktası da ölecek olmaları  \n",
              "2  bu biraz diğirenç bir düşücü olsa da içinde ke...  \n",
              "3  beni bunu düşünmeye iten şey derek minler tarf...  \n",
              "4  miller ölümünden kısa bir süre sonra paylaşılm...  "
            ],
            "text/html": [
              "\n",
              "  <div id=\"df-cef74ea6-a04e-483f-8529-d0818fd14b27\">\n",
              "    <div class=\"colab-df-container\">\n",
              "      <div>\n",
              "<style scoped>\n",
              "    .dataframe tbody tr th:only-of-type {\n",
              "        vertical-align: middle;\n",
              "    }\n",
              "\n",
              "    .dataframe tbody tr th {\n",
              "        vertical-align: top;\n",
              "    }\n",
              "\n",
              "    .dataframe thead th {\n",
              "        text-align: right;\n",
              "    }\n",
              "</style>\n",
              "<table border=\"1\" class=\"dataframe\">\n",
              "  <thead>\n",
              "    <tr style=\"text-align: right;\">\n",
              "      <th></th>\n",
              "      <th>Unnamed: 0</th>\n",
              "      <th>hindi_orig</th>\n",
              "      <th>hindi_trans</th>\n",
              "      <th>english_orig</th>\n",
              "      <th>english_trans</th>\n",
              "      <th>hungarian_orig</th>\n",
              "      <th>hungarian_trans</th>\n",
              "      <th>indonesian_orig</th>\n",
              "      <th>indonesian_trans</th>\n",
              "      <th>portugese_orig</th>\n",
              "      <th>portugese_trans</th>\n",
              "      <th>spanish_orig</th>\n",
              "      <th>spanish_trans</th>\n",
              "      <th>turkish_orig</th>\n",
              "      <th>turkish_trans</th>\n",
              "    </tr>\n",
              "  </thead>\n",
              "  <tbody>\n",
              "    <tr>\n",
              "      <th>0</th>\n",
              "      <td>0</td>\n",
              "      <td>इस वर ् ष के अंत तक , इस ग ् रह पर लगभग एक अरब...</td>\n",
              "      <td>इस वर्क्ष के अम तक इसग कह पर लगभग एक अरब लोग ऐ...</td>\n",
              "      <td>By the end of this year , there &amp;apos;ll be ne...</td>\n",
              "      <td>by the end of this year their apostle be nearl...</td>\n",
              "      <td>Az év végéig majdnem egymilliárd ember lesz a ...</td>\n",
              "      <td>az év végég majdnem egy milliárd dembe lesz a ...</td>\n",
              "      <td>Pada akhir tahun ini , akan ada hampir satu mi...</td>\n",
              "      <td>pada akhir tahun ini akan ada hampir satu miar...</td>\n",
              "      <td>Até ao final deste ano , existirão quase um mi...</td>\n",
              "      <td>até ao final deste ano existirão quase um milh...</td>\n",
              "      <td>A finales de este año habrá alrededor de mil m...</td>\n",
              "      <td>a finales de este año habrá alrededor de mil m...</td>\n",
              "      <td>Bu senenin sonunda , yaklaşık bir milyar insan...</td>\n",
              "      <td>bu senenin sonunda yaklaşık bir milyar insan s...</td>\n",
              "    </tr>\n",
              "    <tr>\n",
              "      <th>1</th>\n",
              "      <td>1</td>\n",
              "      <td>उन सब में जो एक बात आम है वह है कि वे मरने वाल...</td>\n",
              "      <td>उन सब में जो एक बात आम है वह है कि वे मरने वाल...</td>\n",
              "      <td>The one thing that all of them have in common ...</td>\n",
              "      <td>the one thing that all of them have incoman is...</td>\n",
              "      <td>És ami mindannyiukban közös , hogy mind meg fo...</td>\n",
              "      <td>és ami mindannyiukban közös hogy mindnek fogna...</td>\n",
              "      <td>Satu kesamaan dari mereka semua adalah mereka ...</td>\n",
              "      <td>satu kesamaan dari mereka semua adalah mereka ...</td>\n",
              "      <td>A única coisa que todas elas têm em comum é qu...</td>\n",
              "      <td>a única coisa que todas elas têm em comum é qu...</td>\n",
              "      <td>Todos tienen en común que van a morir .</td>\n",
              "      <td>todos tienen en común que van a morir</td>\n",
              "      <td>Hepsinin tek ortak noktası da , ölecek olmaları .</td>\n",
              "      <td>hepsinin tek ortak loktası da ölecek olmaları</td>\n",
              "    </tr>\n",
              "    <tr>\n",
              "      <th>2</th>\n",
              "      <td>2</td>\n",
              "      <td>हालांकि यह कुछ हद तक एक रुग ् ण सोच है , मुझे ...</td>\n",
              "      <td>हालाँकि यह कुछ हद तक एक रुग प्रनसोच है मुझे लग...</td>\n",
              "      <td>While that might be a somewhat morbid thought ...</td>\n",
              "      <td>while that might be a somewhat morbid thought ...</td>\n",
              "      <td>Lehet , hogy ez egy morbid gondolat , de azt h...</td>\n",
              "      <td>lehet hogy az egy morbit gondolat de azt hisze...</td>\n",
              "      <td>Walau itu pemikiran yang agak menakutkan , say...</td>\n",
              "      <td>walau itu pemikiran yang adak menakutkan saya ...</td>\n",
              "      <td>Apesar de isso poder ser um pensamento um tant...</td>\n",
              "      <td>apesar disso poder ser um pensamento um tanto ...</td>\n",
              "      <td>Aunque esto pueda ser un poco morboso , creo q...</td>\n",
              "      <td>aunque esto puede aser un poco morboso creo qu...</td>\n",
              "      <td>Bu biraz iğrenç bir düşünce olsa da , içinde k...</td>\n",
              "      <td>bu biraz diğirenç bir düşücü olsa da içinde ke...</td>\n",
              "    </tr>\n",
              "    <tr>\n",
              "      <th>3</th>\n",
              "      <td>3</td>\n",
              "      <td>मुझे पहली बार इसका ख ् याल आया डेरेक के.एच. मि...</td>\n",
              "      <td>मुझे पहली बार इसका कातियाल आया एर एक केत मिलर्...</td>\n",
              "      <td>What first got me thinking about this was a bl...</td>\n",
              "      <td>what first got we thinking about this was a bl...</td>\n",
              "      <td>Egy blog bejegyzés miatt kezdtem el ezen gondo...</td>\n",
              "      <td>egy blók bejegyzés miatt kezdtem vel ezen gond...</td>\n",
              "      <td>Yang membuat saya mulai berpikir seperti ini a...</td>\n",
              "      <td>yang membuat saya mulai berpikir seperti ini a...</td>\n",
              "      <td>Portanto , o que me fez começar a pensar acerc...</td>\n",
              "      <td>portanto o que me fez começar a pensar acerca ...</td>\n",
              "      <td>Lo primero que me llevó a pensar en esto fue u...</td>\n",
              "      <td>lo primero que me llevó a pensar en esto fue u...</td>\n",
              "      <td>Beni bunu düşünmeye iten şey , Derek K. Miller...</td>\n",
              "      <td>beni bunu düşünmeye iten şey derek minler tarf...</td>\n",
              "    </tr>\n",
              "    <tr>\n",
              "      <th>4</th>\n",
              "      <td>4</td>\n",
              "      <td>और मिलर ने अपने परिवार और दोस ् तों से एक पोस ...</td>\n",
              "      <td>और मिलर ने अपने परिवार और दोस्तों से एक पोस लि...</td>\n",
              "      <td>And what Miller did was have his family and fr...</td>\n",
              "      <td>and what miller did was af his family and frie...</td>\n",
              "      <td>Miller megkérte a családját és barátait , hogy...</td>\n",
              "      <td>véler megkérte a családját és barátait hogy ír...</td>\n",
              "      <td>Miller meminta keluarga dan temannya untuk men...</td>\n",
              "      <td>miler meminta keluarda dan temannya untuk menu...</td>\n",
              "      <td>E o que Miller fez , foi fazer com que a seu f...</td>\n",
              "      <td>e o que me ler fez foi fazer com que a seu fam...</td>\n",
              "      <td>Miller le pidió a sus familiares y amigos que ...</td>\n",
              "      <td>miller le pidió a sus familiares y amigos que ...</td>\n",
              "      <td>Miller ölümünden kısa bir süre sonra paylaşılm...</td>\n",
              "      <td>miller ölümünden kısa bir süre sonra paylaşılm...</td>\n",
              "    </tr>\n",
              "  </tbody>\n",
              "</table>\n",
              "</div>\n",
              "      <button class=\"colab-df-convert\" onclick=\"convertToInteractive('df-cef74ea6-a04e-483f-8529-d0818fd14b27')\"\n",
              "              title=\"Convert this dataframe to an interactive table.\"\n",
              "              style=\"display:none;\">\n",
              "        \n",
              "  <svg xmlns=\"http://www.w3.org/2000/svg\" height=\"24px\"viewBox=\"0 0 24 24\"\n",
              "       width=\"24px\">\n",
              "    <path d=\"M0 0h24v24H0V0z\" fill=\"none\"/>\n",
              "    <path d=\"M18.56 5.44l.94 2.06.94-2.06 2.06-.94-2.06-.94-.94-2.06-.94 2.06-2.06.94zm-11 1L8.5 8.5l.94-2.06 2.06-.94-2.06-.94L8.5 2.5l-.94 2.06-2.06.94zm10 10l.94 2.06.94-2.06 2.06-.94-2.06-.94-.94-2.06-.94 2.06-2.06.94z\"/><path d=\"M17.41 7.96l-1.37-1.37c-.4-.4-.92-.59-1.43-.59-.52 0-1.04.2-1.43.59L10.3 9.45l-7.72 7.72c-.78.78-.78 2.05 0 2.83L4 21.41c.39.39.9.59 1.41.59.51 0 1.02-.2 1.41-.59l7.78-7.78 2.81-2.81c.8-.78.8-2.07 0-2.86zM5.41 20L4 18.59l7.72-7.72 1.47 1.35L5.41 20z\"/>\n",
              "  </svg>\n",
              "      </button>\n",
              "      \n",
              "  <style>\n",
              "    .colab-df-container {\n",
              "      display:flex;\n",
              "      flex-wrap:wrap;\n",
              "      gap: 12px;\n",
              "    }\n",
              "\n",
              "    .colab-df-convert {\n",
              "      background-color: #E8F0FE;\n",
              "      border: none;\n",
              "      border-radius: 50%;\n",
              "      cursor: pointer;\n",
              "      display: none;\n",
              "      fill: #1967D2;\n",
              "      height: 32px;\n",
              "      padding: 0 0 0 0;\n",
              "      width: 32px;\n",
              "    }\n",
              "\n",
              "    .colab-df-convert:hover {\n",
              "      background-color: #E2EBFA;\n",
              "      box-shadow: 0px 1px 2px rgba(60, 64, 67, 0.3), 0px 1px 3px 1px rgba(60, 64, 67, 0.15);\n",
              "      fill: #174EA6;\n",
              "    }\n",
              "\n",
              "    [theme=dark] .colab-df-convert {\n",
              "      background-color: #3B4455;\n",
              "      fill: #D2E3FC;\n",
              "    }\n",
              "\n",
              "    [theme=dark] .colab-df-convert:hover {\n",
              "      background-color: #434B5C;\n",
              "      box-shadow: 0px 1px 3px 1px rgba(0, 0, 0, 0.15);\n",
              "      filter: drop-shadow(0px 1px 2px rgba(0, 0, 0, 0.3));\n",
              "      fill: #FFFFFF;\n",
              "    }\n",
              "  </style>\n",
              "\n",
              "      <script>\n",
              "        const buttonEl =\n",
              "          document.querySelector('#df-cef74ea6-a04e-483f-8529-d0818fd14b27 button.colab-df-convert');\n",
              "        buttonEl.style.display =\n",
              "          google.colab.kernel.accessAllowed ? 'block' : 'none';\n",
              "\n",
              "        async function convertToInteractive(key) {\n",
              "          const element = document.querySelector('#df-cef74ea6-a04e-483f-8529-d0818fd14b27');\n",
              "          const dataTable =\n",
              "            await google.colab.kernel.invokeFunction('convertToInteractive',\n",
              "                                                     [key], {});\n",
              "          if (!dataTable) return;\n",
              "\n",
              "          const docLinkHtml = 'Like what you see? Visit the ' +\n",
              "            '<a target=\"_blank\" href=https://colab.research.google.com/notebooks/data_table.ipynb>data table notebook</a>'\n",
              "            + ' to learn more about interactive tables.';\n",
              "          element.innerHTML = '';\n",
              "          dataTable['output_type'] = 'display_data';\n",
              "          await google.colab.output.renderOutput(dataTable, element);\n",
              "          const docLink = document.createElement('div');\n",
              "          docLink.innerHTML = docLinkHtml;\n",
              "          element.appendChild(docLink);\n",
              "        }\n",
              "      </script>\n",
              "    </div>\n",
              "  </div>\n",
              "  "
            ]
          },
          "metadata": {},
          "execution_count": 20
        }
      ]
    },
    {
      "cell_type": "code",
      "source": [
        "!pip install jiwer"
      ],
      "metadata": {
        "colab": {
          "base_uri": "https://localhost:8080/"
        },
        "id": "1iSer_KqR3tL",
        "outputId": "cb79e0d4-f197-4ed6-fe5b-34eeb99dfcea"
      },
      "execution_count": 22,
      "outputs": [
        {
          "output_type": "stream",
          "name": "stdout",
          "text": [
            "Looking in indexes: https://pypi.org/simple, https://us-python.pkg.dev/colab-wheels/public/simple/\n",
            "Collecting jiwer\n",
            "  Downloading jiwer-3.0.1-py3-none-any.whl (21 kB)\n",
            "Requirement already satisfied: click<9.0.0,>=8.1.3 in /usr/local/lib/python3.10/dist-packages (from jiwer) (8.1.3)\n",
            "Collecting rapidfuzz==2.13.7 (from jiwer)\n",
            "  Downloading rapidfuzz-2.13.7-cp310-cp310-manylinux_2_17_x86_64.manylinux2014_x86_64.whl (2.2 MB)\n",
            "\u001b[2K     \u001b[90m━━━━━━━━━━━━━━━━━━━━━━━━━━━━━━━━━━━━━━━━\u001b[0m \u001b[32m2.2/2.2 MB\u001b[0m \u001b[31m79.0 MB/s\u001b[0m eta \u001b[36m0:00:00\u001b[0m\n",
            "\u001b[?25hInstalling collected packages: rapidfuzz, jiwer\n",
            "Successfully installed jiwer-3.0.1 rapidfuzz-2.13.7\n"
          ]
        }
      ]
    },
    {
      "cell_type": "code",
      "source": [
        "reference = \"hello world\"\n",
        "hypothesis = \"hello world\"\n",
        "\n",
        "error = wer(reference, hypothesis)"
      ],
      "metadata": {
        "id": "DypZ175ESHOp"
      },
      "execution_count": 27,
      "outputs": []
    },
    {
      "cell_type": "code",
      "source": [
        "error"
      ],
      "metadata": {
        "colab": {
          "base_uri": "https://localhost:8080/"
        },
        "id": "U65Ig8ELSIay",
        "outputId": "006aa457-34e5-4567-b6e9-6644c1bd249a"
      },
      "execution_count": 28,
      "outputs": [
        {
          "output_type": "execute_result",
          "data": {
            "text/plain": [
              "0.0"
            ]
          },
          "metadata": {},
          "execution_count": 28
        }
      ]
    },
    {
      "cell_type": "code",
      "source": [
        "from jiwer import wer\n",
        "\n",
        "error_hin = wer(list(utterances_to_transcriptions['hindi_orig']), list(utterances_to_transcriptions['hindi_trans']))\n",
        "error_eng = wer(list(utterances_to_transcriptions['english_orig']), list(utterances_to_transcriptions['english_trans']))\n",
        "error_hun = wer(list(utterances_to_transcriptions['hungarian_orig']), list(utterances_to_transcriptions['hungarian_trans']))\n",
        "error_ind = wer(list(utterances_to_transcriptions['indonesian_orig']), list(utterances_to_transcriptions['indonesian_trans']))\n",
        "error_por = wer(list(utterances_to_transcriptions['portugese_orig']), list(utterances_to_transcriptions['portugese_trans']))\n",
        "error_esp = wer(list(utterances_to_transcriptions['spanish_orig']), list(utterances_to_transcriptions['spanish_trans']))\n",
        "error_turk = wer(list(utterances_to_transcriptions['turkish_orig']), list(utterances_to_transcriptions['turkish_trans']))\n"
      ],
      "metadata": {
        "id": "vHluVX8zRjq1"
      },
      "execution_count": 29,
      "outputs": []
    },
    {
      "cell_type": "code",
      "source": [
        "dict_error_rates = {\n",
        "    'error_hin':error_hin,\n",
        "    'error_eng':error_eng,\n",
        "    'error_hun':error_hun,\n",
        "    'error_ind':error_ind,\n",
        "    'error_por':error_por,\n",
        "    'error_esp':error_esp,\n",
        "    'error_turk':error_turk\n",
        "}"
      ],
      "metadata": {
        "id": "seylJq79SwCz"
      },
      "execution_count": 30,
      "outputs": []
    },
    {
      "cell_type": "code",
      "source": [
        "dict_error_rates"
      ],
      "metadata": {
        "colab": {
          "base_uri": "https://localhost:8080/"
        },
        "id": "TwGfwGP7TAG8",
        "outputId": "34d9d4e4-a982-4ec7-efa5-79e5da9368f2"
      },
      "execution_count": 31,
      "outputs": [
        {
          "output_type": "execute_result",
          "data": {
            "text/plain": [
              "{'error_hin': 0.4260670731707317,\n",
              " 'error_eng': 0.34825174825174826,\n",
              " 'error_hun': 0.44204204204204206,\n",
              " 'error_ind': 0.3583715596330275,\n",
              " 'error_por': 0.2769158439116126,\n",
              " 'error_esp': 0.2747791952894995,\n",
              " 'error_turk': 0.4824120603015075}"
            ]
          },
          "metadata": {},
          "execution_count": 31
        }
      ]
    },
    {
      "cell_type": "code",
      "source": [
        "error"
      ],
      "metadata": {
        "colab": {
          "base_uri": "https://localhost:8080/"
        },
        "id": "oTbrY4LQR8h5",
        "outputId": "921d9cde-5556-4ff2-ab04-8bbf917d74a7"
      },
      "execution_count": 24,
      "outputs": [
        {
          "output_type": "execute_result",
          "data": {
            "text/plain": [
              "0.4260670731707317"
            ]
          },
          "metadata": {},
          "execution_count": 24
        }
      ]
    },
    {
      "cell_type": "code",
      "source": [
        "!mkdir output2"
      ],
      "metadata": {
        "id": "A-lGN0UtQZe6"
      },
      "execution_count": 18,
      "outputs": []
    },
    {
      "cell_type": "code",
      "source": [
        "'''\n",
        "title1|/content/drive/MyDrive/DGM/QUICKVC/QuickVC-VoiceConversion/test_data/p229_003.wav|/content/drive/MyDrive/DGM/QUICKVC/utterance1/hin.wav\n",
        "title2|/content/drive/MyDrive/DGM/QUICKVC/QuickVC-VoiceConversion/test_data/p229_003.wav|/content/drive/MyDrive/DGM/QUICKVC/utterance1/hun.wav\n",
        "title3|/content/drive/MyDrive/DGM/QUICKVC/QuickVC-VoiceConversion/test_data/p229_003.wav|/content/drive/MyDrive/DGM/QUICKVC/utterance1/ind.wav\n",
        "title4|/content/drive/MyDrive/DGM/QUICKVC/QuickVC-VoiceConversion/test_data/p229_003.wav|/content/drive/MyDrive/DGM/QUICKVC/utterance1/por.wav\n",
        "title5|/content/drive/MyDrive/DGM/QUICKVC/QuickVC-VoiceConversion/test_data/p229_003.wav|/content/drive/MyDrive/DGM/QUICKVC/utterance1/spa.wav\n",
        "title6|/content/drive/MyDrive/DGM/QUICKVC/QuickVC-VoiceConversion/test_data/p229_003.wav|/content/drive/MyDrive/DGM/QUICKVC/utterance1/tur.wav\n",
        "title7|/content/drive/MyDrive/DGM/QUICKVC/QuickVC-VoiceConversion/test_data/p229_003.wav|/content/drive/MyDrive/DGM/QUICKVC/utterance1/eng.wav\n",
        "'''"
      ],
      "metadata": {
        "id": "uAE4OVpSBjnh"
      },
      "execution_count": null,
      "outputs": []
    }
  ],
  "metadata": {
    "colab": {
      "provenance": [],
      "gpuType": "T4"
    },
    "kernelspec": {
      "display_name": "Python 3",
      "name": "python3"
    },
    "language_info": {
      "name": "python"
    },
    "accelerator": "GPU"
  },
  "nbformat": 4,
  "nbformat_minor": 0
}